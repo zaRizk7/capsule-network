{
 "cells": [
  {
   "cell_type": "code",
   "execution_count": 5,
   "metadata": {
    "collapsed": true
   },
   "outputs": [
    {
     "ename": "NotFoundError",
     "evalue": "dlopen(/Users/zarizky/conda-envs/tensorflow/lib/python3.9/site-packages/tensorflow-plugins/libmetal_plugin.dylib, 0x0006): symbol not found in flat namespace '__ZN3tsl8internal10LogMessage16VmoduleActivatedEPKci'",
     "output_type": "error",
     "traceback": [
      "\u001B[0;31m---------------------------------------------------------------------------\u001B[0m",
      "\u001B[0;31mNotFoundError\u001B[0m                             Traceback (most recent call last)",
      "Cell \u001B[0;32mIn[5], line 1\u001B[0m\n\u001B[0;32m----> 1\u001B[0m \u001B[38;5;28;01mimport\u001B[39;00m \u001B[38;5;21;01mtensorflow\u001B[39;00m \u001B[38;5;28;01mas\u001B[39;00m \u001B[38;5;21;01mtf\u001B[39;00m\n\u001B[1;32m      2\u001B[0m \u001B[38;5;28;01mimport\u001B[39;00m \u001B[38;5;21;01mlayer\u001B[39;00m\n\u001B[1;32m      3\u001B[0m \u001B[38;5;28;01mimport\u001B[39;00m \u001B[38;5;21;01mloss\u001B[39;00m\n",
      "File \u001B[0;32m~/conda-envs/tensorflow/lib/python3.9/site-packages/tensorflow/__init__.py:443\u001B[0m\n\u001B[1;32m    441\u001B[0m _plugin_dir \u001B[38;5;241m=\u001B[39m _os\u001B[38;5;241m.\u001B[39mpath\u001B[38;5;241m.\u001B[39mjoin(_s, \u001B[38;5;124m'\u001B[39m\u001B[38;5;124mtensorflow-plugins\u001B[39m\u001B[38;5;124m'\u001B[39m)\n\u001B[1;32m    442\u001B[0m \u001B[38;5;28;01mif\u001B[39;00m _os\u001B[38;5;241m.\u001B[39mpath\u001B[38;5;241m.\u001B[39mexists(_plugin_dir):\n\u001B[0;32m--> 443\u001B[0m   \u001B[43m_ll\u001B[49m\u001B[38;5;241;43m.\u001B[39;49m\u001B[43mload_library\u001B[49m\u001B[43m(\u001B[49m\u001B[43m_plugin_dir\u001B[49m\u001B[43m)\u001B[49m\n\u001B[1;32m    444\u001B[0m   \u001B[38;5;66;03m# Load Pluggable Device Library\u001B[39;00m\n\u001B[1;32m    445\u001B[0m   _ll\u001B[38;5;241m.\u001B[39mload_pluggable_device_library(_plugin_dir)\n",
      "File \u001B[0;32m~/conda-envs/tensorflow/lib/python3.9/site-packages/tensorflow/python/framework/load_library.py:151\u001B[0m, in \u001B[0;36mload_library\u001B[0;34m(library_location)\u001B[0m\n\u001B[1;32m    148\u001B[0m     kernel_libraries \u001B[38;5;241m=\u001B[39m [library_location]\n\u001B[1;32m    150\u001B[0m   \u001B[38;5;28;01mfor\u001B[39;00m lib \u001B[38;5;129;01min\u001B[39;00m kernel_libraries:\n\u001B[0;32m--> 151\u001B[0m     \u001B[43mpy_tf\u001B[49m\u001B[38;5;241;43m.\u001B[39;49m\u001B[43mTF_LoadLibrary\u001B[49m\u001B[43m(\u001B[49m\u001B[43mlib\u001B[49m\u001B[43m)\u001B[49m\n\u001B[1;32m    153\u001B[0m \u001B[38;5;28;01melse\u001B[39;00m:\n\u001B[1;32m    154\u001B[0m   \u001B[38;5;28;01mraise\u001B[39;00m \u001B[38;5;167;01mOSError\u001B[39;00m(\n\u001B[1;32m    155\u001B[0m       errno\u001B[38;5;241m.\u001B[39mENOENT,\n\u001B[1;32m    156\u001B[0m       \u001B[38;5;124m'\u001B[39m\u001B[38;5;124mThe file or folder to load kernel libraries from does not exist.\u001B[39m\u001B[38;5;124m'\u001B[39m,\n\u001B[1;32m    157\u001B[0m       library_location)\n",
      "\u001B[0;31mNotFoundError\u001B[0m: dlopen(/Users/zarizky/conda-envs/tensorflow/lib/python3.9/site-packages/tensorflow-plugins/libmetal_plugin.dylib, 0x0006): symbol not found in flat namespace '__ZN3tsl8internal10LogMessage16VmoduleActivatedEPKci'"
     ]
    }
   ],
   "source": [
    "import tensorflow as tf\n",
    "import layer\n",
    "import loss\n",
    "import tensorflow_datasets as tfds\n"
   ]
  },
  {
   "cell_type": "code",
   "execution_count": null,
   "outputs": [],
   "source": [
    "model = tf.keras.Sequential()\n",
    "model.add(tf.keras.layers.Input((28, 28, 3)))\n",
    "model.add(tf.keras.layers.Conv2D(256, 9))\n",
    "model.add(tf.keras.layers.Activation('relu'))\n",
    "model.add(layer.PrimaryCapsule(32, 8, 9, 2, activation='dr'))\n",
    "model.add(layer.DRCapsule(10, 16, activation='dr'))\n",
    "model.compile(loss=loss.MarginLoss(), metrics='categorical_accuracy', optimizer='adam')\n",
    "model.summary()"
   ],
   "metadata": {
    "collapsed": false
   }
  },
  {
   "cell_type": "code",
   "execution_count": null,
   "outputs": [],
   "source": [
    "(ds_train, ds_test), ds_info = tfds.load(\n",
    "    'mnist',\n",
    "    split=['train', 'test'],\n",
    "    shuffle_files=True,\n",
    "    as_supervised=True,\n",
    "    with_info=True,\n",
    ")"
   ],
   "metadata": {
    "collapsed": false
   }
  },
  {
   "cell_type": "code",
   "execution_count": null,
   "outputs": [],
   "source": [
    "def normalize_img(image, label):\n",
    "    \"\"\"Normalizes images: `uint8` -> `float32`.\"\"\"\n",
    "    return tf.cast(image, tf.float32) / 255., label\n",
    "\n",
    "\n",
    "ds_train = ds_train.map(\n",
    "    normalize_img, num_parallel_calls=tf.data.AUTOTUNE)\n",
    "ds_train = ds_train.cache()\n",
    "ds_train = ds_train.shuffle(ds_info.splits['train'].num_examples)\n",
    "ds_train = ds_train.batch(128)\n",
    "ds_train = ds_train.prefetch(tf.data.AUTOTUNE)\n",
    "\n",
    "ds_test = ds_test.map(\n",
    "    normalize_img, num_parallel_calls=tf.data.AUTOTUNE)\n",
    "ds_test = ds_test.batch(128)\n",
    "ds_test = ds_test.cache()\n",
    "ds_test = ds_test.prefetch(tf.data.AUTOTUNE)"
   ],
   "metadata": {
    "collapsed": false
   }
  },
  {
   "cell_type": "code",
   "execution_count": null,
   "outputs": [],
   "source": [
    "model.fit(\n",
    "    ds_train,\n",
    "    epochs=6,\n",
    "    validation_data=ds_test,\n",
    ")"
   ],
   "metadata": {
    "collapsed": false
   }
  }
 ],
 "metadata": {
  "kernelspec": {
   "display_name": "Python 3",
   "language": "python",
   "name": "python3"
  },
  "language_info": {
   "codemirror_mode": {
    "name": "ipython",
    "version": 2
   },
   "file_extension": ".py",
   "mimetype": "text/x-python",
   "name": "python",
   "nbconvert_exporter": "python",
   "pygments_lexer": "ipython2",
   "version": "2.7.6"
  }
 },
 "nbformat": 4,
 "nbformat_minor": 0
}
